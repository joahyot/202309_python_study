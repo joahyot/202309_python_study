{
 "cells": [
  {
   "cell_type": "code",
   "execution_count": null,
   "metadata": {},
   "outputs": [],
   "source": [
    "# HousePrices_Linear_Regression_Analysis 실습.py "
   ]
  },
  {
   "cell_type": "code",
   "execution_count": null,
   "metadata": {},
   "outputs": [],
   "source": [
    "import pandas as pd\n",
    "import numpy as np\n",
    "import seaborn as sns\n",
    "import matplotlib.pyplot as plt\n",
    "%matplotlib inline\n",
    "\n",
    "from sklearn.linear_model import LinearRegression\n",
    "\n",
    "## 데이터셋 불러오기 & 기초 전처리\n",
    "r1 = pd.read_csv('train.csv')\n",
    "r1.columns = [r1.columns[i].lower() for i in ipb(range(len(r1.columns)))]\n",
    "t1 = r1.query('yearbuilt >= 1980').reset_index(drop=True)"
   ]
  },
  {
   "cell_type": "code",
   "execution_count": null,
   "metadata": {},
   "outputs": [],
   "source": [
    "import statsmodels.api as sm\n",
    "\n",
    "# define response variable\n",
    "y = t1.saleprice\n",
    "\n",
    "# define predictor variable\n",
    "x = t1.yearbuilt\n",
    "\n",
    "# add constant to predictor variable\n",
    "x = sm.add_constant(x)\n",
    "\n",
    "# fit linear regression model\n",
    "model = sm.OLS(y,x).fit()\n",
    "\n",
    "# view model summary\n",
    "print(model.summary())"
   ]
  },
  {
   "cell_type": "code",
   "execution_count": null,
   "metadata": {},
   "outputs": [],
   "source": [
    "# 변수의 선언\n",
    "x = t1.yearbuilt\n",
    "y = t1.saleprice\n",
    "\n",
    "# 모델의 선언 \n",
    "linear_regression = LinearRegression()\n",
    "\n",
    "# 모델-데이터셋의 학습 진행\n",
    "linear_regression.fit(x.values.reshape(-1,1),y)\n",
    "\n",
    "# 예측 실행\n",
    "print('2010년 건축 부동산 예측 가격:{}'.format(linear_regression.predict([[2010]])[0]),\n",
    "       'x변수 계수: {}'.format(linear_regression.coef_[0]),\n",
    "       sep = '\\n')\n"
   ]
  },
  {
   "cell_type": "code",
   "execution_count": null,
   "metadata": {},
   "outputs": [],
   "source": []
  }
 ],
 "metadata": {
  "kernelspec": {
   "display_name": "Python 3",
   "language": "python",
   "name": "python3"
  },
  "language_info": {
   "codemirror_mode": {
    "name": "ipython",
    "version": 3
   },
   "file_extension": ".py",
   "mimetype": "text/x-python",
   "name": "python",
   "nbconvert_exporter": "python",
   "pygments_lexer": "ipython3",
   "version": "3.11.4"
  },
  "orig_nbformat": 4
 },
 "nbformat": 4,
 "nbformat_minor": 2
}
