{
 "cells": [
  {
   "cell_type": "code",
   "execution_count": 1,
   "metadata": {},
   "outputs": [],
   "source": [
    "# insertion sort(삽입정렬) & Selection Sort(선택정렬)"
   ]
  },
  {
   "cell_type": "code",
   "execution_count": 2,
   "metadata": {},
   "outputs": [],
   "source": [
    "def insertion_sort(data):\n",
    "    for index in range(len(data) - 1):\n",
    "        \n",
    "        for index2 in range(index +1, 0, -1):\n",
    "\n",
    "            if data[index2] < data[index2 -1]:\n",
    "                data[index2], data[index2 -1] = data[index2 -1], data[index2]\n",
    "\n",
    "            else:\n",
    "                break\n",
    "    return data"
   ]
  },
  {
   "cell_type": "code",
   "execution_count": 3,
   "metadata": {},
   "outputs": [
    {
     "name": "stdout",
     "output_type": "stream",
     "text": [
      "[31, 14, 54, 96, 61, 86, 55, 39, 40, 8, 15, 0, 35, 22, 93, 73, 21, 9, 44, 64]\n"
     ]
    }
   ],
   "source": [
    "import random\n",
    "data = random.sample(range(100), 20)\n",
    "print(data, sep ='\\n')"
   ]
  },
  {
   "cell_type": "code",
   "execution_count": 4,
   "metadata": {},
   "outputs": [
    {
     "data": {
      "text/plain": [
       "[0, 8, 9, 14, 15, 21, 22, 31, 35, 39, 40, 44, 54, 55, 61, 64, 73, 86, 93, 96]"
      ]
     },
     "execution_count": 4,
     "metadata": {},
     "output_type": "execute_result"
    }
   ],
   "source": [
    "insertion_sort(data)"
   ]
  },
  {
   "cell_type": "code",
   "execution_count": 5,
   "metadata": {},
   "outputs": [],
   "source": [
    "# Insertion Sort\n",
    "# 1. 삽입 정렬은 두 번째 인덱스부터 시작한다.\n",
    "# 2. 해당 인덱스(key값) 앞에 있는 데이터부터 비교해서, key값이 더 작으면 그 데이터 값을 뒤 인덱스로 복사한다.\n",
    "# 3. 이를 key값이 더 큰 데이터를 만날 때까지 반복하고 그리고 큰 데이터를 만난 위치 바로 뒤에 key 값을 이동한다. \n",
    "\n",
    "# 즉 n번째 인자를 이전의 인자와 비교하고 순서를 바꿈으로써 순서를 맞추는 것이 핵심."
   ]
  },
  {
   "cell_type": "code",
   "execution_count": 6,
   "metadata": {},
   "outputs": [],
   "source": [
    "def selection_sort(data):\n",
    "    for stand in range(len(data)-1):\n",
    "        lowest = stand\n",
    "\n",
    "        for num in range(stand+1, len(data)):\n",
    "            if data[num] < data[lowest]:\n",
    "                lowest = num\n",
    "\n",
    "        data[stand], data[lowest] = data[lowest], data[stand]\n",
    "\n",
    "    return data"
   ]
  },
  {
   "cell_type": "code",
   "execution_count": 8,
   "metadata": {},
   "outputs": [
    {
     "data": {
      "text/plain": [
       "[72, 33, 97, 69, 75, 65, 81, 96, 73, 11]"
      ]
     },
     "execution_count": 8,
     "metadata": {},
     "output_type": "execute_result"
    }
   ],
   "source": [
    "import random \n",
    "\n",
    "data_list = random.sample(range(100), 10)\n",
    "data_list"
   ]
  },
  {
   "cell_type": "code",
   "execution_count": 9,
   "metadata": {},
   "outputs": [
    {
     "data": {
      "text/plain": [
       "[11, 33, 65, 69, 72, 73, 75, 81, 96, 97]"
      ]
     },
     "execution_count": 9,
     "metadata": {},
     "output_type": "execute_result"
    }
   ],
   "source": [
    "selection_sort(data_list)"
   ]
  },
  {
   "cell_type": "code",
   "execution_count": 10,
   "metadata": {},
   "outputs": [],
   "source": [
    "# Selection Sort\n",
    "\n",
    "# 1. 주어진 데이터 중 최솟값을 찾는다.\n",
    "# 2. 최소값을 맨 앞으로 이동한다.\n",
    "# 3. 맨 앞 데이터를 제외한 나머지 데이터들에게 동일한 반복을 시행한다. \n"
   ]
  },
  {
   "cell_type": "code",
   "execution_count": null,
   "metadata": {},
   "outputs": [],
   "source": []
  }
 ],
 "metadata": {
  "kernelspec": {
   "display_name": "Python 3",
   "language": "python",
   "name": "python3"
  },
  "language_info": {
   "codemirror_mode": {
    "name": "ipython",
    "version": 3
   },
   "file_extension": ".py",
   "mimetype": "text/x-python",
   "name": "python",
   "nbconvert_exporter": "python",
   "pygments_lexer": "ipython3",
   "version": "3.11.4"
  },
  "orig_nbformat": 4
 },
 "nbformat": 4,
 "nbformat_minor": 2
}
