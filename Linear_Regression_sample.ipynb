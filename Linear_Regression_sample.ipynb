{
 "cells": [
  {
   "cell_type": "code",
   "execution_count": 1,
   "metadata": {},
   "outputs": [],
   "source": [
    "# Linear Regression Analysis_sample"
   ]
  },
  {
   "cell_type": "code",
   "execution_count": 2,
   "metadata": {},
   "outputs": [
    {
     "name": "stdout",
     "output_type": "stream",
     "text": [
      "   a   b\n",
      "0  1  10\n",
      "1  3  21\n",
      "2  4  32\n",
      "3  5  53\n",
      "4  7  63\n"
     ]
    }
   ],
   "source": [
    "import pandas as pd\n",
    "\n",
    "a = [1, 3, 4, 5, 7, 8, 12, 35, 62]\n",
    "b = [10, 21, 32, 53, 63, 73, 82, 92, 103]\n",
    "\n",
    "data = pd.DataFrame({'a': a, 'b': b})\n",
    "\n",
    "print(data.head())"
   ]
  },
  {
   "cell_type": "code",
   "execution_count": 3,
   "metadata": {},
   "outputs": [],
   "source": [
    "# 선형 회귀 모델이기 때문에 \"a = b0 + b1*b\"의 형태가 될 것"
   ]
  },
  {
   "cell_type": "code",
   "execution_count": 7,
   "metadata": {},
   "outputs": [
    {
     "name": "stdout",
     "output_type": "stream",
     "text": [
      "                                 OLS Regression Results                                \n",
      "=======================================================================================\n",
      "Dep. Variable:                      y   R-squared (uncentered):                   0.688\n",
      "Model:                            OLS   Adj. R-squared (uncentered):              0.649\n",
      "Method:                 Least Squares   F-statistic:                              17.62\n",
      "Date:                Tue, 26 Sep 2023   Prob (F-statistic):                     0.00301\n",
      "Time:                        11:33:18   Log-Likelihood:                         -45.270\n",
      "No. Observations:                   9   AIC:                                      92.54\n",
      "Df Residuals:                       8   BIC:                                      92.74\n",
      "Df Model:                           1                                                  \n",
      "Covariance Type:            nonrobust                                                  \n",
      "==============================================================================\n",
      "                 coef    std err          t      P>|t|      [0.025      0.975]\n",
      "------------------------------------------------------------------------------\n",
      "x1             2.2468      0.535      4.197      0.003       1.012       3.481\n",
      "==============================================================================\n",
      "Omnibus:                        2.949   Durbin-Watson:                   0.387\n",
      "Prob(Omnibus):                  0.229   Jarque-Bera (JB):                1.052\n",
      "Skew:                          -0.837   Prob(JB):                        0.591\n",
      "Kurtosis:                       3.018   Cond. No.                         1.00\n",
      "==============================================================================\n",
      "\n",
      "Notes:\n",
      "[1] R² is computed without centering (uncentered) since the model does not contain a constant.\n",
      "[2] Standard Errors assume that the covariance matrix of the errors is correctly specified.\n"
     ]
    },
    {
     "name": "stderr",
     "output_type": "stream",
     "text": [
      "c:\\Python311\\Lib\\site-packages\\scipy\\stats\\_stats_py.py:1806: UserWarning: kurtosistest only valid for n>=20 ... continuing anyway, n=9\n",
      "  warnings.warn(\"kurtosistest only valid for n>=20 ... continuing \"\n"
     ]
    }
   ],
   "source": [
    "import statsmodels.api as sm\n",
    "\n",
    "x = data.a.values\n",
    "y = data.b.values\n",
    "model = sm.OLS(y, x)\n",
    "result = model.fit()\n",
    "\n",
    "print(result.summary())"
   ]
  },
  {
   "cell_type": "code",
   "execution_count": null,
   "metadata": {},
   "outputs": [],
   "source": []
  }
 ],
 "metadata": {
  "kernelspec": {
   "display_name": "Python 3",
   "language": "python",
   "name": "python3"
  },
  "language_info": {
   "codemirror_mode": {
    "name": "ipython",
    "version": 3
   },
   "file_extension": ".py",
   "mimetype": "text/x-python",
   "name": "python",
   "nbconvert_exporter": "python",
   "pygments_lexer": "ipython3",
   "version": "3.11.4"
  },
  "orig_nbformat": 4
 },
 "nbformat": 4,
 "nbformat_minor": 2
}
