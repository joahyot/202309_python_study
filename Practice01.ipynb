{
 "cells": [
  {
   "cell_type": "code",
   "execution_count": null,
   "metadata": {},
   "outputs": [],
   "source": [
    "# practice01\n",
    "\n",
    "# data['열이름'].plot(figsize=(20,5))                --> Python에서 제공하는 plot 함수 사용하여 간단하게 그리기\n",
    "# data.resample('W')['열이름'].mean().plot(kind = 'bar', figsize=(10,5))  ---> plot 함수로 주차별 bar 그래프 그리기 \n",
    "# data.resample('D')['열이름'].max().plot()          --> plot 함수로 일별 최대값 그리기\n",
    "\n",
    "\n",
    "# matplotlib 사용하여 그리기 \n",
    "\n",
    "# seaborn 사용하여 그리기 \n",
    "\n",
    "\n",
    "# resample로 그래프 그릴 시, x축 년도 표시 방식 변경하기\n",
    "# rk1_fume2.index = [d.strftime('%Y-%m-%d') for d in rk1_fume2.index]  -- 참조 코드임"
   ]
  }
 ],
 "metadata": {
  "language_info": {
   "name": "python"
  },
  "orig_nbformat": 4
 },
 "nbformat": 4,
 "nbformat_minor": 2
}
